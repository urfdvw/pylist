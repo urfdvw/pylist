{
 "cells": [
  {
   "cell_type": "markdown",
   "metadata": {},
   "source": [
    "# What is pass by assignment"
   ]
  },
  {
   "cell_type": "raw",
   "metadata": {},
   "source": [
    "Python的函数传递方式叫做 Pass by assignment.\n",
    "为了解释清楚这件事，我们需要先搞清其他几件事"
   ]
  },
  {
   "cell_type": "raw",
   "metadata": {},
   "source": [
    "1， Python变量的存储形式\n",
    "至少有三部分\n",
    "- 值\n",
    "- 地址， 同一个地址就是同一个变量 is\n",
    "- 名字"
   ]
  },
  {
   "cell_type": "code",
   "execution_count": 1,
   "metadata": {},
   "outputs": [],
   "source": [
    "a = 1"
   ]
  },
  {
   "cell_type": "code",
   "execution_count": 2,
   "metadata": {},
   "outputs": [
    {
     "data": {
      "text/plain": [
       "1"
      ]
     },
     "execution_count": 2,
     "metadata": {},
     "output_type": "execute_result"
    }
   ],
   "source": [
    "# value\n",
    "a"
   ]
  },
  {
   "cell_type": "code",
   "execution_count": 3,
   "metadata": {},
   "outputs": [
    {
     "data": {
      "text/plain": [
       "140232989897472"
      ]
     },
     "execution_count": 3,
     "metadata": {},
     "output_type": "execute_result"
    }
   ],
   "source": [
    "# address\n",
    "id(a)"
   ]
  },
  {
   "cell_type": "code",
   "execution_count": 4,
   "metadata": {},
   "outputs": [],
   "source": [
    "# a is the name"
   ]
  },
  {
   "cell_type": "raw",
   "metadata": {},
   "source": [
    "2，Python 中 `=` 的意思是\n",
    "- 给等号右边的部分起一个名称\n",
    "- 叫左边这个名字"
   ]
  },
  {
   "cell_type": "code",
   "execution_count": 5,
   "metadata": {},
   "outputs": [
    {
     "data": {
      "text/plain": [
       "140232989897472"
      ]
     },
     "execution_count": 5,
     "metadata": {},
     "output_type": "execute_result"
    }
   ],
   "source": [
    "# give the variable at id(a) a new name called b\n",
    "# one variable, two name\n",
    "b = a\n",
    "id(b)"
   ]
  },
  {
   "cell_type": "raw",
   "metadata": {},
   "source": [
    "*，那`a = 1` 发生了什么\n",
    "- 常量也是有地址的，因为是一个对象\n",
    "    - 但是如果不命名就释放了"
   ]
  },
  {
   "cell_type": "code",
   "execution_count": 6,
   "metadata": {},
   "outputs": [
    {
     "name": "stdout",
     "output_type": "stream",
     "text": [
      "140232939653648\n",
      "12736\n"
     ]
    }
   ],
   "source": [
    "# https://stackoverflow.com/a/15012814/7037749\n",
    "from _ctypes import PyObj_FromPtr as di\n",
    "from time import sleep\n",
    "import sys\n",
    "\n",
    "wild_id = id(12736)\n",
    "print(wild_id)\n",
    "print(di(wild_id))"
   ]
  },
  {
   "cell_type": "code",
   "execution_count": 7,
   "metadata": {},
   "outputs": [],
   "source": [
    "# print(di(wild_id)) # the content changed, thanks to garbage collector"
   ]
  },
  {
   "cell_type": "code",
   "execution_count": 8,
   "metadata": {},
   "outputs": [
    {
     "data": {
      "text/plain": [
       "140232989897472"
      ]
     },
     "execution_count": 8,
     "metadata": {},
     "output_type": "execute_result"
    }
   ],
   "source": [
    "id(1) # id of small ints are fixed"
   ]
  },
  {
   "cell_type": "code",
   "execution_count": 9,
   "metadata": {},
   "outputs": [
    {
     "data": {
      "text/plain": [
       "140232989897472"
      ]
     },
     "execution_count": 9,
     "metadata": {},
     "output_type": "execute_result"
    }
   ],
   "source": [
    "a = 1\n",
    "id(a)"
   ]
  },
  {
   "cell_type": "code",
   "execution_count": 10,
   "metadata": {},
   "outputs": [
    {
     "data": {
      "text/plain": [
       "True"
      ]
     },
     "execution_count": 10,
     "metadata": {},
     "output_type": "execute_result"
    }
   ],
   "source": [
    "a is 1"
   ]
  },
  {
   "cell_type": "markdown",
   "metadata": {},
   "source": [
    "3, 如果一个变量有多个名字，那么通过一个名字修改的话，用其他名字访问到的值也应该是改变的\n",
    "- 但是前提是这个变量是 immutable 的\n",
    "\n",
    "3.1 如果修改一个 immutable 的变量，其实是\n",
    "- 计算出新的变量\n",
    "- 把名字冠给新的变量\n",
    "- 名字还是原来的名字，变量不再是原来的变量了\n",
    "\n",
    "3.2 如果修改一个 mutable 的变量\n",
    "- 如果是 inplace 修改，两个名字就还是对应同一个变量\n",
    "- 如果涉及到 = 那很可能就变了"
   ]
  },
  {
   "cell_type": "code",
   "execution_count": 11,
   "metadata": {},
   "outputs": [
    {
     "name": "stdout",
     "output_type": "stream",
     "text": [
      "1 1\n",
      "1 2\n"
     ]
    }
   ],
   "source": [
    "a = 1\n",
    "b = a\n",
    "print(a, b)\n",
    "b = b + 1\n",
    "print(a, b)"
   ]
  },
  {
   "cell_type": "code",
   "execution_count": 12,
   "metadata": {},
   "outputs": [
    {
     "name": "stdout",
     "output_type": "stream",
     "text": [
      "[3, 5, 2, 1, 4] [3, 5, 2, 1, 4]\n",
      "[3, 5, 2, 1, 4] [1, 2, 3, 4, 5]\n"
     ]
    }
   ],
   "source": [
    "a = [3, 5, 2, 1, 4]\n",
    "b = a\n",
    "print(a, b)\n",
    "b = sorted(b)\n",
    "print(a, b)"
   ]
  },
  {
   "cell_type": "code",
   "execution_count": 13,
   "metadata": {},
   "outputs": [
    {
     "name": "stdout",
     "output_type": "stream",
     "text": [
      "[3, 5, 2, 1, 4] [3, 5, 2, 1, 4]\n",
      "[1, 2, 3, 4, 5] [1, 2, 3, 4, 5]\n"
     ]
    }
   ],
   "source": [
    "a = [3, 5, 2, 1, 4]\n",
    "b = a\n",
    "print(a, b)\n",
    "b.sort()\n",
    "print(a, b)"
   ]
  },
  {
   "cell_type": "raw",
   "metadata": {},
   "source": [
    "3.3 `+=` 是 inplace 吗\n",
    "- 得看 class 的 __iadd__() 的实现形式，不能一概而论\n",
    "\n",
    "- 但是根据 python 的官方设定\n",
    "    - mutable 的 += 是 inplace\n",
    "    - immutable 的 += 不是"
   ]
  },
  {
   "cell_type": "code",
   "execution_count": 14,
   "metadata": {},
   "outputs": [
    {
     "name": "stdout",
     "output_type": "stream",
     "text": [
      "[1, 2, 4, 3] [1, 2, 4, 3]\n"
     ]
    }
   ],
   "source": [
    "a = [1, 2]\n",
    "b = a\n",
    "b += [4, 3]\n",
    "print(a, b)"
   ]
  },
  {
   "cell_type": "code",
   "execution_count": 15,
   "metadata": {},
   "outputs": [
    {
     "name": "stdout",
     "output_type": "stream",
     "text": [
      "(1, 2) (1, 2, 4, 3)\n"
     ]
    }
   ],
   "source": [
    "a = (1, 2)\n",
    "b = a\n",
    "b += (4, 3)\n",
    "print(a, b)"
   ]
  },
  {
   "cell_type": "raw",
   "metadata": {},
   "source": [
    "函数的参数传递相当于经历了一次 `=`"
   ]
  },
  {
   "cell_type": "code",
   "execution_count": 16,
   "metadata": {},
   "outputs": [],
   "source": [
    "def f(x, y):\n",
    "    x += y\n",
    "    print('x , y =', x, ',', y)"
   ]
  },
  {
   "cell_type": "code",
   "execution_count": 17,
   "metadata": {},
   "outputs": [
    {
     "name": "stdout",
     "output_type": "stream",
     "text": [
      "x , y = 3 , 2\n",
      "a , b = 1 , 2\n"
     ]
    }
   ],
   "source": [
    "# immutable example\n",
    "a, b = 1, 2\n",
    "f(a, b)\n",
    "print('a , b =', a, ',', b)"
   ]
  },
  {
   "cell_type": "code",
   "execution_count": 18,
   "metadata": {},
   "outputs": [
    {
     "name": "stdout",
     "output_type": "stream",
     "text": [
      "x , y = 3 , 2\n",
      "a , b = 1 , 2\n"
     ]
    }
   ],
   "source": [
    "a, b = 1, 2\n",
    "x, y = a, b\n",
    "x += y\n",
    "print('x , y =', x, ',', y)\n",
    "print('a , b =', a, ',', b)"
   ]
  },
  {
   "cell_type": "code",
   "execution_count": 19,
   "metadata": {},
   "outputs": [
    {
     "name": "stdout",
     "output_type": "stream",
     "text": [
      "x , y = 3 , 2\n",
      "a , b = 3 , 2\n"
     ]
    }
   ],
   "source": [
    "# mutable example\n",
    "import numpy as np\n",
    "a, b = np.array(1), np.array(2)\n",
    "f(a, b)\n",
    "print('a , b =', a, ',', b)"
   ]
  },
  {
   "cell_type": "code",
   "execution_count": 20,
   "metadata": {},
   "outputs": [
    {
     "name": "stdout",
     "output_type": "stream",
     "text": [
      "x , y = 3 , 2\n",
      "a , b = 3 , 2\n"
     ]
    }
   ],
   "source": [
    "a, b = np.array(1), np.array(2)\n",
    "x, y = a, b\n",
    "x += y\n",
    "print('x , y =', x, ',', y)\n",
    "print('a , b =', a, ',', b)"
   ]
  },
  {
   "cell_type": "raw",
   "metadata": {},
   "source": [
    "同样的事情也发生在 for loop"
   ]
  },
  {
   "cell_type": "code",
   "execution_count": 21,
   "metadata": {},
   "outputs": [
    {
     "name": "stdout",
     "output_type": "stream",
     "text": [
      "[1, 2, 3]\n"
     ]
    }
   ],
   "source": [
    "l = [1, 2, 3]\n",
    "for item in l:\n",
    "    item += 1\n",
    "print(l)"
   ]
  },
  {
   "cell_type": "code",
   "execution_count": 22,
   "metadata": {},
   "outputs": [
    {
     "name": "stdout",
     "output_type": "stream",
     "text": [
      "[1, 2, 3]\n"
     ]
    }
   ],
   "source": [
    "l = [1, 2, 3]\n",
    "# for loop\n",
    "item = l[0] # is a list, immutable\n",
    "item += 1\n",
    "item = l[1]\n",
    "item += 1\n",
    "item = l[2]\n",
    "item += 1\n",
    "# end for loop\n",
    "print(l)"
   ]
  },
  {
   "cell_type": "code",
   "execution_count": 23,
   "metadata": {},
   "outputs": [
    {
     "name": "stdout",
     "output_type": "stream",
     "text": [
      "[[2], [3], [4]]\n"
     ]
    }
   ],
   "source": [
    "l = [[1], [2], [3]]\n",
    "for item in l:\n",
    "    item[0] += 1\n",
    "print(l)"
   ]
  },
  {
   "cell_type": "code",
   "execution_count": 24,
   "metadata": {},
   "outputs": [
    {
     "name": "stdout",
     "output_type": "stream",
     "text": [
      "[[2], [3], [4]]\n"
     ]
    }
   ],
   "source": [
    "l = [[1], [2], [3]]\n",
    "# for loop\n",
    "item = l[0] # is a list, mutable\n",
    "item[0] += 1\n",
    "item = l[1]\n",
    "item[0] += 1\n",
    "item = l[2]\n",
    "item[0] += 1\n",
    "# end for loop\n",
    "print(l)"
   ]
  },
  {
   "cell_type": "code",
   "execution_count": null,
   "metadata": {},
   "outputs": [],
   "source": []
  }
 ],
 "metadata": {
  "kernelspec": {
   "display_name": "Python 3",
   "language": "python",
   "name": "python3"
  },
  "language_info": {
   "codemirror_mode": {
    "name": "ipython",
    "version": 3
   },
   "file_extension": ".py",
   "mimetype": "text/x-python",
   "name": "python",
   "nbconvert_exporter": "python",
   "pygments_lexer": "ipython3",
   "version": "3.7.6"
  }
 },
 "nbformat": 4,
 "nbformat_minor": 4
}
