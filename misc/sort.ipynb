{
 "cells": [
  {
   "cell_type": "code",
   "execution_count": 1,
   "metadata": {},
   "outputs": [
    {
     "data": {
      "text/plain": [
       "True"
      ]
     },
     "execution_count": 1,
     "metadata": {},
     "output_type": "execute_result"
    }
   ],
   "source": [
    "from random import randint\n",
    "a = [randint(0, 100) for i in range(1000)]\n",
    "\n",
    "def partition(a, left, right):\n",
    "    pivot = a[right]\n",
    "    write = left + 0\n",
    "    for read in range(left, right + 1):\n",
    "        if a[read] < pivot:\n",
    "            a[read], a[write] = a[write], a[read]\n",
    "            write += 1\n",
    "    a[write], a[right] = a[right], a[write]\n",
    "    return write\n",
    "\n",
    "def quicksort(a, left, right):\n",
    "    if left < right:\n",
    "        end = partition(a, left, right)\n",
    "        quicksort(a, left, end-1)\n",
    "        quicksort(a, end + 1, right)\n",
    "    return\n",
    "\n",
    "quicksort(a, 0, len(a)-1)\n",
    "a == sorted(a)"
   ]
  }
 ],
 "metadata": {
  "kernelspec": {
   "display_name": "Python 3",
   "language": "python",
   "name": "python3"
  },
  "language_info": {
   "codemirror_mode": {
    "name": "ipython",
    "version": 3
   },
   "file_extension": ".py",
   "mimetype": "text/x-python",
   "name": "python",
   "nbconvert_exporter": "python",
   "pygments_lexer": "ipython3",
   "version": "3.7.4"
  }
 },
 "nbformat": 4,
 "nbformat_minor": 4
}
