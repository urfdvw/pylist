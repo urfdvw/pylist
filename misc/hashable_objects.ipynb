{
 "cells": [
  {
   "cell_type": "markdown",
   "metadata": {},
   "source": [
    "# Hashable Objectable"
   ]
  },
  {
   "cell_type": "raw",
   "metadata": {},
   "source": [
    "重点：hashable 与否取决于 __hash__() 函数是否被实现，和其他的无关。"
   ]
  },
  {
   "cell_type": "raw",
   "metadata": {},
   "source": [
    "1， 对于系统自带的数据类型，\n",
    "immutable 的数据类型都是 hashable 的，反之都不是。\n",
    "然而这个不是技术原因，而是习惯原因。"
   ]
  },
  {
   "cell_type": "code",
   "execution_count": 1,
   "metadata": {},
   "outputs": [
    {
     "data": {
      "text/plain": [
       "0"
      ]
     },
     "execution_count": 1,
     "metadata": {},
     "output_type": "execute_result"
    }
   ],
   "source": [
    "hash(int())"
   ]
  },
  {
   "cell_type": "code",
   "execution_count": 2,
   "metadata": {},
   "outputs": [
    {
     "data": {
      "text/plain": [
       "0"
      ]
     },
     "execution_count": 2,
     "metadata": {},
     "output_type": "execute_result"
    }
   ],
   "source": [
    "hash(float())"
   ]
  },
  {
   "cell_type": "code",
   "execution_count": 3,
   "metadata": {},
   "outputs": [
    {
     "data": {
      "text/plain": [
       "0"
      ]
     },
     "execution_count": 3,
     "metadata": {},
     "output_type": "execute_result"
    }
   ],
   "source": [
    "hash(str())"
   ]
  },
  {
   "cell_type": "code",
   "execution_count": 4,
   "metadata": {},
   "outputs": [
    {
     "data": {
      "text/plain": [
       "0"
      ]
     },
     "execution_count": 4,
     "metadata": {},
     "output_type": "execute_result"
    }
   ],
   "source": [
    "hash(bool())"
   ]
  },
  {
   "cell_type": "code",
   "execution_count": 5,
   "metadata": {},
   "outputs": [
    {
     "data": {
      "text/plain": [
       "3527539"
      ]
     },
     "execution_count": 5,
     "metadata": {},
     "output_type": "execute_result"
    }
   ],
   "source": [
    "hash(tuple())"
   ]
  },
  {
   "cell_type": "code",
   "execution_count": 6,
   "metadata": {},
   "outputs": [
    {
     "ename": "TypeError",
     "evalue": "unhashable type: 'list'",
     "output_type": "error",
     "traceback": [
      "\u001b[0;31m---------------------------------------------------------------------------\u001b[0m",
      "\u001b[0;31mTypeError\u001b[0m                                 Traceback (most recent call last)",
      "\u001b[0;32m<ipython-input-6-3e2eb619e4e4>\u001b[0m in \u001b[0;36m<module>\u001b[0;34m\u001b[0m\n\u001b[0;32m----> 1\u001b[0;31m \u001b[0mhash\u001b[0m\u001b[0;34m(\u001b[0m\u001b[0mlist\u001b[0m\u001b[0;34m(\u001b[0m\u001b[0;34m)\u001b[0m\u001b[0;34m)\u001b[0m\u001b[0;34m\u001b[0m\u001b[0;34m\u001b[0m\u001b[0m\n\u001b[0m",
      "\u001b[0;31mTypeError\u001b[0m: unhashable type: 'list'"
     ]
    }
   ],
   "source": [
    "hash(list())"
   ]
  },
  {
   "cell_type": "code",
   "execution_count": 7,
   "metadata": {},
   "outputs": [
    {
     "ename": "TypeError",
     "evalue": "unhashable type: 'set'",
     "output_type": "error",
     "traceback": [
      "\u001b[0;31m---------------------------------------------------------------------------\u001b[0m",
      "\u001b[0;31mTypeError\u001b[0m                                 Traceback (most recent call last)",
      "\u001b[0;32m<ipython-input-7-2699417ebeac>\u001b[0m in \u001b[0;36m<module>\u001b[0;34m\u001b[0m\n\u001b[0;32m----> 1\u001b[0;31m \u001b[0mhash\u001b[0m\u001b[0;34m(\u001b[0m\u001b[0mset\u001b[0m\u001b[0;34m(\u001b[0m\u001b[0;34m)\u001b[0m\u001b[0;34m)\u001b[0m\u001b[0;34m\u001b[0m\u001b[0;34m\u001b[0m\u001b[0m\n\u001b[0m",
      "\u001b[0;31mTypeError\u001b[0m: unhashable type: 'set'"
     ]
    }
   ],
   "source": [
    "hash(set())"
   ]
  },
  {
   "cell_type": "code",
   "execution_count": 8,
   "metadata": {},
   "outputs": [
    {
     "ename": "TypeError",
     "evalue": "unhashable type: 'dict'",
     "output_type": "error",
     "traceback": [
      "\u001b[0;31m---------------------------------------------------------------------------\u001b[0m",
      "\u001b[0;31mTypeError\u001b[0m                                 Traceback (most recent call last)",
      "\u001b[0;32m<ipython-input-8-7762fff637c6>\u001b[0m in \u001b[0;36m<module>\u001b[0;34m\u001b[0m\n\u001b[0;32m----> 1\u001b[0;31m \u001b[0mhash\u001b[0m\u001b[0;34m(\u001b[0m\u001b[0mdict\u001b[0m\u001b[0;34m(\u001b[0m\u001b[0;34m)\u001b[0m\u001b[0;34m)\u001b[0m\u001b[0;34m\u001b[0m\u001b[0;34m\u001b[0m\u001b[0m\n\u001b[0m",
      "\u001b[0;31mTypeError\u001b[0m: unhashable type: 'dict'"
     ]
    }
   ],
   "source": [
    "hash(dict())"
   ]
  },
  {
   "cell_type": "raw",
   "metadata": {},
   "source": [
    "2，自定义的 class 的 object 都是 hashable。\n",
    "默认的 __hash__(self) 的实现是 id(self) // 16"
   ]
  },
  {
   "cell_type": "code",
   "execution_count": 9,
   "metadata": {},
   "outputs": [
    {
     "name": "stdout",
     "output_type": "stream",
     "text": [
      "8740170526345\n",
      "139842728421520\n",
      "16\n"
     ]
    }
   ],
   "source": [
    "class my_class(object): pass\n",
    "o = my_class()\n",
    "print(hash(o))\n",
    "print(id(o))\n",
    "print(id(o) // hash(o))"
   ]
  },
  {
   "cell_type": "raw",
   "metadata": {},
   "source": [
    "3，但 dict() 和 set() 不止需要 __hash__() 还需要 __eq__()\n",
    "默认的 __eq__(self, other) 的实现是 self is other\n",
    "换句话说就是比地址"
   ]
  },
  {
   "cell_type": "code",
   "execution_count": 10,
   "metadata": {},
   "outputs": [
    {
     "name": "stdout",
     "output_type": "stream",
     "text": [
      "139842728415696\n",
      "139842728415632\n",
      "139842728415696\n",
      "False\n",
      "True\n"
     ]
    }
   ],
   "source": [
    "o = my_class()\n",
    "p = my_class()\n",
    "q = o\n",
    "print(id(o))\n",
    "print(id(p))\n",
    "print(id(q))\n",
    "print(o == p)\n",
    "print(o == q)"
   ]
  },
  {
   "cell_type": "raw",
   "metadata": {},
   "source": [
    "如果只定义 eq (和ne)， hash 会消失 （原因不明）"
   ]
  },
  {
   "cell_type": "code",
   "execution_count": 11,
   "metadata": {},
   "outputs": [
    {
     "ename": "TypeError",
     "evalue": "unhashable type: 'my_class'",
     "output_type": "error",
     "traceback": [
      "\u001b[0;31m---------------------------------------------------------------------------\u001b[0m",
      "\u001b[0;31mTypeError\u001b[0m                                 Traceback (most recent call last)",
      "\u001b[0;32m<ipython-input-11-e7958ecab408>\u001b[0m in \u001b[0;36m<module>\u001b[0;34m\u001b[0m\n\u001b[1;32m      6\u001b[0m \u001b[0;34m\u001b[0m\u001b[0m\n\u001b[1;32m      7\u001b[0m \u001b[0mo\u001b[0m \u001b[0;34m=\u001b[0m \u001b[0mmy_class\u001b[0m\u001b[0;34m(\u001b[0m\u001b[0;34m)\u001b[0m\u001b[0;34m\u001b[0m\u001b[0;34m\u001b[0m\u001b[0m\n\u001b[0;32m----> 8\u001b[0;31m \u001b[0mhash\u001b[0m\u001b[0;34m(\u001b[0m\u001b[0mo\u001b[0m\u001b[0;34m)\u001b[0m\u001b[0;34m\u001b[0m\u001b[0;34m\u001b[0m\u001b[0m\n\u001b[0m",
      "\u001b[0;31mTypeError\u001b[0m: unhashable type: 'my_class'"
     ]
    }
   ],
   "source": [
    "class my_class(object): \n",
    "    def __eq__(self, other):\n",
    "        return True\n",
    "    def __ne__(self, other):\n",
    "        return False\n",
    "    \n",
    "o = my_class()\n",
    "hash(o)"
   ]
  },
  {
   "cell_type": "raw",
   "metadata": {},
   "source": [
    "但是可以只定义 hash ， eq 还是默认的"
   ]
  },
  {
   "cell_type": "code",
   "execution_count": 12,
   "metadata": {},
   "outputs": [
    {
     "name": "stdout",
     "output_type": "stream",
     "text": [
      "139842728468688\n",
      "139842728468752\n",
      "139842728468688\n",
      "False\n",
      "True\n"
     ]
    },
    {
     "data": {
      "text/plain": [
       "{<__main__.my_class at 0x7f2fac27a0d0>, <__main__.my_class at 0x7f2fac27a110>}"
      ]
     },
     "execution_count": 12,
     "metadata": {},
     "output_type": "execute_result"
    }
   ],
   "source": [
    "class my_class(object): \n",
    "    def __hash__(self):\n",
    "        return 1\n",
    "    \n",
    "o = my_class()\n",
    "p = my_class()\n",
    "q = o\n",
    "print(id(o))\n",
    "print(id(p))\n",
    "print(id(q))\n",
    "print(o == p)\n",
    "print(o == q)\n",
    "{o, p, q}"
   ]
  },
  {
   "cell_type": "raw",
   "metadata": {},
   "source": [
    "如果 hashable 就可以放进 set 或者用作 dict 的 key。\n",
    "但是要实现没有重复，必须实现有意义的 eq 才行\n",
    "上面这个例子就是没有意义的\n",
    "== 检测相等的 o q 只留下来一个，p 也留下来了，所以有两个.\n",
    "即使 hash 值相同也没有问题，只是一般的 hash table collision 而已。\n",
    "只有性能的影响，不会报错。"
   ]
  },
  {
   "cell_type": "code",
   "execution_count": 13,
   "metadata": {},
   "outputs": [
    {
     "name": "stdout",
     "output_type": "stream",
     "text": [
      "139842763899344\n",
      "139842763900368\n",
      "139842763899344\n",
      "139842763899664\n",
      "False\n",
      "True\n",
      "False\n"
     ]
    },
    {
     "data": {
      "text/plain": [
       "{1@139842763899344, 2@139842763900368}"
      ]
     },
     "execution_count": 13,
     "metadata": {},
     "output_type": "execute_result"
    }
   ],
   "source": [
    "# sane example\n",
    "class my_class(object): \n",
    "    def __init__(self, v):\n",
    "        self.v = v\n",
    "    def __repr__(self):\n",
    "        return str(self.v) + '@' + str(id(self))\n",
    "    def __hash__(self):\n",
    "        return 1\n",
    "    def __eq__(self, other):\n",
    "        return self.v == other.v\n",
    "    \n",
    "o = my_class(1)\n",
    "p = my_class(2)\n",
    "q = o\n",
    "r = my_class(2)\n",
    "print(id(o))\n",
    "print(id(p))\n",
    "print(id(q))\n",
    "print(id(r))\n",
    "print(o == p)\n",
    "print(o == q)\n",
    "print(o == r)\n",
    "{o, p, q, r}"
   ]
  },
  {
   "cell_type": "code",
   "execution_count": 14,
   "metadata": {},
   "outputs": [
    {
     "name": "stdout",
     "output_type": "stream",
     "text": [
      "139842728418448\n",
      "139842728418192\n",
      "139842728418448\n",
      "139842728418320\n",
      "True\n",
      "False\n",
      "True\n"
     ]
    },
    {
     "data": {
      "text/plain": [
       "{1@139842728418448}"
      ]
     },
     "execution_count": 14,
     "metadata": {},
     "output_type": "execute_result"
    }
   ],
   "source": [
    "# insane example\n",
    "class my_class(object): \n",
    "    def __init__(self, v):\n",
    "        self.v = v\n",
    "    def __repr__(self):\n",
    "        return str(self.v) + '@' + str(id(self))\n",
    "    def __hash__(self):\n",
    "        return 1\n",
    "    def __eq__(self, other):\n",
    "        return self.v != other.v\n",
    "    \n",
    "o = my_class(1)\n",
    "p = my_class(2)\n",
    "q = o\n",
    "r = my_class(2)\n",
    "print(id(o))\n",
    "print(id(p))\n",
    "print(id(q))\n",
    "print(id(r))\n",
    "print(o == p)\n",
    "print(o == q)\n",
    "print(o == r)\n",
    "{o, p, q, r}"
   ]
  },
  {
   "cell_type": "raw",
   "metadata": {},
   "source": [
    "上面的例子表明\n",
    "eq 表示相等的变量不会重复出现\n",
    "即使 eq 定义的非常出格，系统也不会在 set() 里保存两份同样地址的变量。"
   ]
  },
  {
   "cell_type": "raw",
   "metadata": {},
   "source": [
    "4，如果你非要把 list 放进 set，只需要定义它的 hash 函数就好了"
   ]
  },
  {
   "cell_type": "code",
   "execution_count": 15,
   "metadata": {},
   "outputs": [],
   "source": [
    "class my_list(list):\n",
    "    def __hash__(self):\n",
    "        return id(self)//16\n",
    "    \n",
    "a = list([1, 2, 3])\n",
    "b = my_list([4, 5, 6])\n",
    "a.append(7)\n",
    "b.append(8) # warking in the same way"
   ]
  },
  {
   "cell_type": "code",
   "execution_count": 16,
   "metadata": {},
   "outputs": [
    {
     "ename": "TypeError",
     "evalue": "unhashable type: 'list'",
     "output_type": "error",
     "traceback": [
      "\u001b[0;31m---------------------------------------------------------------------------\u001b[0m",
      "\u001b[0;31mTypeError\u001b[0m                                 Traceback (most recent call last)",
      "\u001b[0;32m<ipython-input-16-29dfa031a339>\u001b[0m in \u001b[0;36m<module>\u001b[0;34m\u001b[0m\n\u001b[0;32m----> 1\u001b[0;31m \u001b[0;34m{\u001b[0m\u001b[0ma\u001b[0m\u001b[0;34m}\u001b[0m\u001b[0;34m\u001b[0m\u001b[0;34m\u001b[0m\u001b[0m\n\u001b[0m",
      "\u001b[0;31mTypeError\u001b[0m: unhashable type: 'list'"
     ]
    }
   ],
   "source": [
    "{a}"
   ]
  },
  {
   "cell_type": "code",
   "execution_count": 17,
   "metadata": {},
   "outputs": [
    {
     "data": {
      "text/plain": [
       "{[4, 5, 6, 8]}"
      ]
     },
     "execution_count": 17,
     "metadata": {},
     "output_type": "execute_result"
    }
   ],
   "source": [
    "{b}"
   ]
  },
  {
   "cell_type": "code",
   "execution_count": null,
   "metadata": {},
   "outputs": [],
   "source": []
  }
 ],
 "metadata": {
  "kernelspec": {
   "display_name": "Python 3",
   "language": "python",
   "name": "python3"
  },
  "language_info": {
   "codemirror_mode": {
    "name": "ipython",
    "version": 3
   },
   "file_extension": ".py",
   "mimetype": "text/x-python",
   "name": "python",
   "nbconvert_exporter": "python",
   "pygments_lexer": "ipython3",
   "version": "3.7.6"
  }
 },
 "nbformat": 4,
 "nbformat_minor": 4
}
