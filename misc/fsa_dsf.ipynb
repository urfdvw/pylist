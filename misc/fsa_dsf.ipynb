{
 "cells": [
  {
   "cell_type": "markdown",
   "metadata": {},
   "source": [
    "# Finite state automation for non-recurssion DFS traversal"
   ]
  },
  {
   "cell_type": "code",
   "execution_count": 1,
   "metadata": {},
   "outputs": [],
   "source": [
    "class TreeNode:\n",
    "    def __init__(self, val):\n",
    "        self.val = val\n",
    "        self.left, self.right = None, None\n",
    "val = [10,1,11,6,12]\n",
    "node = [TreeNode(v) for v in val]\n",
    "node[0].left = node[1]\n",
    "node[0].right = node[2]\n",
    "node[1].right = node[3]\n",
    "node[2].right = node[4]"
   ]
  },
  {
   "cell_type": "code",
   "execution_count": 2,
   "metadata": {},
   "outputs": [
    {
     "name": "stdout",
     "output_type": "stream",
     "text": [
      "1\n",
      "6\n",
      "10\n",
      "11\n",
      "12\n"
     ]
    }
   ],
   "source": [
    "# in order \n",
    "#    l - v - r\n",
    "# 0  - 1 - 2 - 3\n",
    "stack = []\n",
    "n = node[0]\n",
    "s = 0\n",
    "while 1:\n",
    "    if s == 0:\n",
    "        if n.left is None:\n",
    "            s = 1\n",
    "            continue\n",
    "        else:\n",
    "            stack.append((n, 1))\n",
    "            n = n.left\n",
    "            s = 0\n",
    "            continue\n",
    "    if s == 1:\n",
    "        print(n.val)\n",
    "        s = 2\n",
    "        continue\n",
    "    if s == 2:\n",
    "        if n.right is None:\n",
    "            s = 3\n",
    "            continue\n",
    "        else:\n",
    "            stack.append((n, 3))\n",
    "            n = n.right\n",
    "            s = 0\n",
    "            continue\n",
    "    if s == 3:\n",
    "        if len(stack) == 0:\n",
    "            break\n",
    "        else:\n",
    "            n, s = stack.pop()\n",
    "        continue\n",
    "        "
   ]
  },
  {
   "cell_type": "code",
   "execution_count": 3,
   "metadata": {},
   "outputs": [
    {
     "name": "stdout",
     "output_type": "stream",
     "text": [
      "10\n",
      "1\n",
      "6\n",
      "11\n",
      "12\n"
     ]
    }
   ],
   "source": [
    "# pre order\n",
    "#   v - l - r\n",
    "# 0 - 1 - 2 - 3\n",
    "stack = []\n",
    "n = node[0]\n",
    "s = 0\n",
    "\n",
    "while True:\n",
    "    if s == 0:\n",
    "        print(n.val)\n",
    "        s = 1\n",
    "        continue\n",
    "    if s == 1:\n",
    "        if n.left is None:\n",
    "            s = 2\n",
    "            continue\n",
    "        else:\n",
    "            stack.append((n, 2))\n",
    "            n = n.left\n",
    "            s = 0\n",
    "            continue\n",
    "    if s == 2:\n",
    "        if n.right is None:\n",
    "            s = 3\n",
    "            continue\n",
    "        else:\n",
    "            stack.append((n, 3))\n",
    "            n = n.right\n",
    "            s = 0\n",
    "            continue\n",
    "    if s == 3:\n",
    "        if len(stack) == 0:\n",
    "            break\n",
    "        else:\n",
    "            n, s = stack.pop()\n",
    "            continue"
   ]
  },
  {
   "cell_type": "code",
   "execution_count": 4,
   "metadata": {},
   "outputs": [
    {
     "name": "stdout",
     "output_type": "stream",
     "text": [
      "6\n",
      "1\n",
      "12\n",
      "11\n",
      "10\n"
     ]
    }
   ],
   "source": [
    "# post order\n",
    "#   l - r - v\n",
    "# 0 - 1 - 2 - 3\n",
    "stack = []\n",
    "n = node[0]\n",
    "s = 0\n",
    "\n",
    "while True:\n",
    "    if s == 0:\n",
    "        if n.left is None:\n",
    "            s = 1\n",
    "            continue\n",
    "        else:\n",
    "            stack.append((n, 1))\n",
    "            n = n.left\n",
    "            s = 0\n",
    "            continue\n",
    "    if s == 1:\n",
    "        if n.right is None:\n",
    "            s = 2\n",
    "            continue\n",
    "        else:\n",
    "            stack.append((n, 2))\n",
    "            n = n.right\n",
    "            s = 0\n",
    "            continue\n",
    "    if s == 2:\n",
    "        print(n.val)\n",
    "        s = 3\n",
    "        continue\n",
    "    if s == 3:\n",
    "        if len(stack) == 0:\n",
    "            break\n",
    "        else:\n",
    "            n, s = stack.pop()\n",
    "            continue"
   ]
  }
 ],
 "metadata": {
  "kernelspec": {
   "display_name": "Python 3",
   "language": "python",
   "name": "python3"
  },
  "language_info": {
   "codemirror_mode": {
    "name": "ipython",
    "version": 3
   },
   "file_extension": ".py",
   "mimetype": "text/x-python",
   "name": "python",
   "nbconvert_exporter": "python",
   "pygments_lexer": "ipython3",
   "version": "3.7.4"
  }
 },
 "nbformat": 4,
 "nbformat_minor": 4
}
