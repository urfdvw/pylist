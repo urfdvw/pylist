{
 "cells": [
  {
   "cell_type": "code",
   "execution_count": 2,
   "id": "8abb5046-d11b-4a5f-871e-0d9c309a6b15",
   "metadata": {},
   "outputs": [],
   "source": [
    "from sortedcontainers import SortedDict\n",
    "# https://grantjenks.com/docs/sortedcontainers/sorteddict.html"
   ]
  },
  {
   "cell_type": "code",
   "execution_count": 27,
   "id": "b21465ed-645a-44ba-ab78-4840c4388514",
   "metadata": {},
   "outputs": [
    {
     "data": {
      "text/plain": [
       "{1: 100, 2: 10, -1: 1}"
      ]
     },
     "execution_count": 27,
     "metadata": {},
     "output_type": "execute_result"
    }
   ],
   "source": [
    "# define a dict, \n",
    "# the order of items shoud be intert order\n",
    "\n",
    "a = dict()\n",
    "a[1] = 100\n",
    "a[2] = 10\n",
    "a[-1] = 1\n",
    "a"
   ]
  },
  {
   "cell_type": "code",
   "execution_count": 29,
   "id": "16753b02-24ad-4731-a5c6-6a0f0bdb561d",
   "metadata": {},
   "outputs": [
    {
     "name": "stdout",
     "output_type": "stream",
     "text": [
      "[(1, 100), (2, 10), (-1, 1)]\n"
     ]
    }
   ],
   "source": [
    "print([(k, v) for k, v in a.items()])"
   ]
  },
  {
   "cell_type": "code",
   "execution_count": 30,
   "id": "02de7d5c-dc45-4b40-acc8-707ab0db99bb",
   "metadata": {},
   "outputs": [
    {
     "data": {
      "text/plain": [
       "SortedDict({-1: 1, 1: 100, 2: 10})"
      ]
     },
     "execution_count": 30,
     "metadata": {},
     "output_type": "execute_result"
    }
   ],
   "source": [
    "# define a sorted dict\n",
    "# the order should be sorted by key\n",
    "\n",
    "b = SortedDict(a)\n",
    "b"
   ]
  },
  {
   "cell_type": "code",
   "execution_count": 31,
   "id": "b4e2528e-94b4-4c29-b387-577abba213fc",
   "metadata": {},
   "outputs": [
    {
     "data": {
      "text/plain": [
       "(1, 100)"
      ]
     },
     "execution_count": 31,
     "metadata": {},
     "output_type": "execute_result"
    }
   ],
   "source": [
    "# to visit the ith item in Sorted list\n",
    "b.peekitem(1)"
   ]
  },
  {
   "cell_type": "code",
   "execution_count": 32,
   "id": "cce1e0ba-6774-46b7-9fcc-f9900b206572",
   "metadata": {},
   "outputs": [
    {
     "data": {
      "text/plain": [
       "100"
      ]
     },
     "execution_count": 32,
     "metadata": {},
     "output_type": "execute_result"
    }
   ],
   "source": [
    "# or pop\n",
    "b.pop(1)"
   ]
  },
  {
   "cell_type": "code",
   "execution_count": 33,
   "id": "f593a601-58f4-448c-bd6f-d404c7589644",
   "metadata": {},
   "outputs": [
    {
     "data": {
      "text/plain": [
       "SortedDict({-1: 1, 2: 10})"
      ]
     },
     "execution_count": 33,
     "metadata": {},
     "output_type": "execute_result"
    }
   ],
   "source": [
    "b"
   ]
  },
  {
   "cell_type": "code",
   "execution_count": 35,
   "id": "b19eb76e-c7b7-4259-a996-f3a00bee0a88",
   "metadata": {},
   "outputs": [
    {
     "data": {
      "text/plain": [
       "['_NotGiven',\n",
       " '_SortedDict__not_given',\n",
       " '__class__',\n",
       " '__contains__',\n",
       " '__copy__',\n",
       " '__delattr__',\n",
       " '__delitem__',\n",
       " '__dict__',\n",
       " '__dir__',\n",
       " '__doc__',\n",
       " '__eq__',\n",
       " '__format__',\n",
       " '__ge__',\n",
       " '__getattribute__',\n",
       " '__getitem__',\n",
       " '__gt__',\n",
       " '__hash__',\n",
       " '__init__',\n",
       " '__init_subclass__',\n",
       " '__ior__',\n",
       " '__iter__',\n",
       " '__le__',\n",
       " '__len__',\n",
       " '__lt__',\n",
       " '__module__',\n",
       " '__ne__',\n",
       " '__new__',\n",
       " '__or__',\n",
       " '__reduce__',\n",
       " '__reduce_ex__',\n",
       " '__repr__',\n",
       " '__reversed__',\n",
       " '__ror__',\n",
       " '__setattr__',\n",
       " '__setitem__',\n",
       " '__sizeof__',\n",
       " '__str__',\n",
       " '__subclasshook__',\n",
       " '__weakref__',\n",
       " '_check',\n",
       " '_key',\n",
       " '_list',\n",
       " '_list_add',\n",
       " '_list_clear',\n",
       " '_list_iter',\n",
       " '_list_pop',\n",
       " '_list_remove',\n",
       " '_list_reversed',\n",
       " '_list_update',\n",
       " '_reset',\n",
       " '_setitem',\n",
       " '_update',\n",
       " 'bisect',\n",
       " 'bisect_left',\n",
       " 'bisect_right',\n",
       " 'clear',\n",
       " 'copy',\n",
       " 'fromkeys',\n",
       " 'get',\n",
       " 'iloc',\n",
       " 'index',\n",
       " 'irange',\n",
       " 'islice',\n",
       " 'items',\n",
       " 'key',\n",
       " 'keys',\n",
       " 'peekitem',\n",
       " 'pop',\n",
       " 'popitem',\n",
       " 'setdefault',\n",
       " 'update',\n",
       " 'values']"
      ]
     },
     "execution_count": 35,
     "metadata": {},
     "output_type": "execute_result"
    }
   ],
   "source": [
    "dir(b)"
   ]
  },
  {
   "cell_type": "markdown",
   "id": "5e237926-f3f3-47eb-83aa-531ad24e841e",
   "metadata": {},
   "source": [
    "# time complexity\n",
    "- insert, remove, peek: O(log(n))\n",
    "- get value by key: O(1)"
   ]
  },
  {
   "cell_type": "code",
   "execution_count": null,
   "id": "351043ae-0e92-4331-9147-cc7a9f6b40b5",
   "metadata": {},
   "outputs": [],
   "source": []
  }
 ],
 "metadata": {
  "kernelspec": {
   "display_name": "Python 3 (ipykernel)",
   "language": "python",
   "name": "python3"
  },
  "language_info": {
   "codemirror_mode": {
    "name": "ipython",
    "version": 3
   },
   "file_extension": ".py",
   "mimetype": "text/x-python",
   "name": "python",
   "nbconvert_exporter": "python",
   "pygments_lexer": "ipython3",
   "version": "3.8.12"
  }
 },
 "nbformat": 4,
 "nbformat_minor": 5
}
