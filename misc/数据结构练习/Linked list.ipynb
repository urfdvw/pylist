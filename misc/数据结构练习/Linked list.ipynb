{
 "cells": [
  {
   "cell_type": "code",
   "execution_count": 1,
   "id": "5ccb4486-03bc-40a5-b9c9-bd89a1c3b49e",
   "metadata": {},
   "outputs": [],
   "source": [
    "from collections.abc import Sequence # for indexable object\n",
    "\n",
    "class Node:\n",
    "    # linked list node\n",
    "    def __init__(self, val=None, next=None):\n",
    "        self.val = val\n",
    "        self.next = next\n",
    "\n",
    "class Vector(Sequence):\n",
    "    # vector with variable legth\n",
    "    def __init__(self, data=[]):\n",
    "        # para: data is a 1D list and the items are numbers\n",
    "        \n",
    "        self.dummy = Node() # dummy head node: dummy.next is the real head\n",
    "        \n",
    "        ## add data to linked list\n",
    "        node = self.dummy\n",
    "        for d in data:\n",
    "            node.next = Node(val=d) # add the node\n",
    "            node = node.next # move to the next node\n",
    "    \n",
    "    def empty(self):\n",
    "        return self.dummy.next is None\n",
    "            \n",
    "    def node_iter(self):\n",
    "        # iterator that go through all nodes\n",
    "        def gen():\n",
    "            node = self.dummy\n",
    "            while node.next is not None:\n",
    "                yield node.next\n",
    "                node = node.next\n",
    "        return gen()\n",
    "    \n",
    "    def __iter__(self):\n",
    "        # iterator that go through all vals\n",
    "        def gen():\n",
    "            for n in self.node_iter():\n",
    "                yield n.val\n",
    "        return gen()\n",
    "    \n",
    "    def __str__(self):\n",
    "        # to string function\n",
    "        out = []\n",
    "        for n in iter(self):\n",
    "            out.append(str(n))\n",
    "        return ' -> '.join(out) if out else 'vector is empty'\n",
    "    \n",
    "    def __len__(self):\n",
    "        # get the length of the vector\n",
    "        out = 0\n",
    "        for n in self.node_iter():\n",
    "            out += 1\n",
    "        return out\n",
    "    \n",
    "    def append(self, val):\n",
    "        # append a node at the end\n",
    "        n = self.dummy # in case of empty\n",
    "        for n in self.node_iter():\n",
    "            pass\n",
    "        n.next = Node(val=val)\n",
    "        \n",
    "    def appendleft(self, val):\n",
    "        # append a node in the front\n",
    "        head = self.dummy.next\n",
    "        self.dummy.next = Node(val=val, next=head)\n",
    "        \n",
    "    def check_index(self, i):\n",
    "        # check if `i` is a valid index\n",
    "        if i < 0:\n",
    "            raise Exception(' index need to be non-negative')\n",
    "        if i >= len(self):\n",
    "            raise Exception(' index too large')\n",
    "        \n",
    "    def __getitem__(self, i):\n",
    "        # get the value of the `i`th item in the vector\n",
    "        # head have index 0\n",
    "        self.check_index(i)\n",
    "        ind = 0\n",
    "        for n in self.node_iter():\n",
    "            if ind == i:\n",
    "                return n.val\n",
    "            ind += 1\n",
    "    \n",
    "    def insert(self, val, i):\n",
    "        # insert a value into the vector\n",
    "        # the inserted item will have index `i`\n",
    "        self.check_index(i)\n",
    "        ind = 0\n",
    "        for n in self.node_iter():\n",
    "            if ind == i - 1:\n",
    "                next = n.next\n",
    "                n.next = Node(val=val, next=next)\n",
    "                return\n",
    "            ind += 1\n",
    "    \n",
    "    def remove(self, i):\n",
    "        # remove the `i`th item\n",
    "        self.check_index(i)\n",
    "        ind = 0\n",
    "        for n in self.node_iter():\n",
    "            if ind == i - 1:\n",
    "                next = n.next\n",
    "                n.next = next.next\n",
    "                del next # this line is not necessary in python as next is going to be removed after the function.\n",
    "                return\n",
    "            ind += 1\n",
    "            \n",
    "    def clear(self):\n",
    "        # remove all nodes\n",
    "        node = self.dummy.next\n",
    "        while node.next is not None:\n",
    "            next = node.next\n",
    "            del node.next\n",
    "            node = next\n",
    "        # the steps above are not necessary for python\n",
    "        self.dummy.next = None\n",
    "        \n",
    "    def max(self):\n",
    "        # calculate the maximum value\n",
    "        out = -float('inf')\n",
    "        for n in iter(self):\n",
    "            out = max(out, n)\n",
    "        return out\n",
    "    \n",
    "    def min(self):\n",
    "        # calculate the minmum value\n",
    "        out = float('inf')\n",
    "        for n in iter(self):\n",
    "            out = min(out, n)\n",
    "        return out\n",
    "    \n",
    "    def sum(self):\n",
    "        # calculate the sum \n",
    "        out = 0\n",
    "        for n in iter(self):\n",
    "            out += n\n",
    "        return out\n",
    "        \n",
    "    def reverse(self):\n",
    "        # reverse the list\n",
    "        if self.dummy.next is None or self.dummy.next.next is None:\n",
    "            return\n",
    "        left = self.dummy.next\n",
    "        right = left.next\n",
    "        left.next = None\n",
    "        while right is not None:\n",
    "            rightnext = right.next\n",
    "            right.next = left\n",
    "            left = right\n",
    "            right = rightnext\n",
    "        self.dummy.next = left\n",
    "            \n",
    "    def sort(self):\n",
    "        # bouble sort inplace\n",
    "        for i in reversed(range(len(self) - 1)):\n",
    "            ind = 0\n",
    "            for n in self.node_iter():\n",
    "                if ind <= i:\n",
    "                    if n.val > n.next.val:\n",
    "                        n.val, n.next.val = n.next.val, n.val\n",
    "                ind += 1\n",
    "                \n",
    "    def find(self, val):\n",
    "        # return the index of the first item with value `val`\n",
    "        for i, n in enumerate(iter(self)):\n",
    "            if n == val:\n",
    "                return i\n",
    "        return -1"
   ]
  },
  {
   "cell_type": "code",
   "execution_count": 2,
   "id": "fd69b023-a07d-4748-b2d7-f2ea87656d75",
   "metadata": {},
   "outputs": [
    {
     "name": "stdout",
     "output_type": "stream",
     "text": [
      "1 -> 3 -> 5 -> 7 -> 90\n",
      "vector is empty\n"
     ]
    }
   ],
   "source": [
    "# Test code\n",
    "vec = Vector([1,3,5,7,90])\n",
    "vec_empty = Vector()\n",
    "print(vec)\n",
    "print(vec_empty)"
   ]
  },
  {
   "cell_type": "code",
   "execution_count": 3,
   "id": "0f120200-fb52-4151-a6b8-f47a00ec6079",
   "metadata": {},
   "outputs": [
    {
     "name": "stdout",
     "output_type": "stream",
     "text": [
      "False\n",
      "True\n"
     ]
    }
   ],
   "source": [
    "print(vec.empty())\n",
    "print(vec_empty.empty())"
   ]
  },
  {
   "cell_type": "code",
   "execution_count": 4,
   "id": "daef2558-0165-4e04-b703-9da506affd6e",
   "metadata": {},
   "outputs": [
    {
     "name": "stdout",
     "output_type": "stream",
     "text": [
      "5\n",
      "0\n"
     ]
    }
   ],
   "source": [
    "print(len(vec))\n",
    "print(len(vec_empty))"
   ]
  },
  {
   "cell_type": "code",
   "execution_count": 5,
   "id": "16682457-416b-4ac8-9334-24ebf063370b",
   "metadata": {},
   "outputs": [
    {
     "name": "stdout",
     "output_type": "stream",
     "text": [
      "1 -> 3 -> 5 -> 7 -> 90 -> -1\n",
      "6\n",
      "-1\n",
      "1\n"
     ]
    }
   ],
   "source": [
    "vec.append(-1)\n",
    "print(vec)\n",
    "print(len(vec))\n",
    "vec_empty.append(-1)\n",
    "print(vec_empty)\n",
    "print(len(vec_empty))"
   ]
  },
  {
   "cell_type": "code",
   "execution_count": 6,
   "id": "e0a878eb-216a-4de3-a1ee-3923e3d5c3e0",
   "metadata": {},
   "outputs": [
    {
     "name": "stdout",
     "output_type": "stream",
     "text": [
      "-10 -> 1 -> 3 -> 5 -> 7 -> 90 -> -1\n",
      "7\n",
      "-10 -> -1\n",
      "2\n"
     ]
    }
   ],
   "source": [
    "vec.appendleft(-10)\n",
    "print(vec)\n",
    "print(len(vec))\n",
    "vec_empty.appendleft(-10)\n",
    "print(vec_empty)\n",
    "print(len(vec_empty))"
   ]
  },
  {
   "cell_type": "code",
   "execution_count": 7,
   "id": "d1ba2bad-8fab-47aa-bae8-ac4e536cd708",
   "metadata": {},
   "outputs": [
    {
     "data": {
      "text/plain": [
       "-10"
      ]
     },
     "execution_count": 7,
     "metadata": {},
     "output_type": "execute_result"
    }
   ],
   "source": [
    "vec[0]"
   ]
  },
  {
   "cell_type": "code",
   "execution_count": 8,
   "id": "b9549c8e-5b38-4859-a8ac-1a05e88e4cce",
   "metadata": {},
   "outputs": [
    {
     "data": {
      "text/plain": [
       "-1"
      ]
     },
     "execution_count": 8,
     "metadata": {},
     "output_type": "execute_result"
    }
   ],
   "source": [
    "vec[len(vec) - 1]"
   ]
  },
  {
   "cell_type": "code",
   "execution_count": 9,
   "id": "e0f3786a-ef54-46a4-89d0-9cf2be070a3a",
   "metadata": {},
   "outputs": [],
   "source": [
    "# vec[-1] # will raise error"
   ]
  },
  {
   "cell_type": "code",
   "execution_count": 10,
   "id": "a20af38e-e6d3-4542-8696-e4d789f134a4",
   "metadata": {},
   "outputs": [],
   "source": [
    "# vec[len(vec)] # will raise error"
   ]
  },
  {
   "cell_type": "code",
   "execution_count": 11,
   "id": "1f9aefb2-b8d4-4e06-a5d9-06967042d61b",
   "metadata": {},
   "outputs": [
    {
     "name": "stdout",
     "output_type": "stream",
     "text": [
      "-10 -> 1 -> 3 -> -200 -> 5 -> 7 -> 90 -> -1\n",
      "-200\n"
     ]
    }
   ],
   "source": [
    "vec.insert(val=-200, i=3)\n",
    "print(vec)\n",
    "print(vec[3])"
   ]
  },
  {
   "cell_type": "code",
   "execution_count": 12,
   "id": "b0732066-a382-4075-8d31-9c6f6295b655",
   "metadata": {},
   "outputs": [
    {
     "name": "stdout",
     "output_type": "stream",
     "text": [
      "-10 -> 1 -> 3 -> -200 -> 7 -> 90 -> -1\n"
     ]
    }
   ],
   "source": [
    "vec.remove(4)\n",
    "print(vec)"
   ]
  },
  {
   "cell_type": "code",
   "execution_count": 13,
   "id": "7603f322-ff7a-4f25-a889-8cd7f4a6067b",
   "metadata": {},
   "outputs": [
    {
     "name": "stdout",
     "output_type": "stream",
     "text": [
      "vector is empty\n"
     ]
    }
   ],
   "source": [
    "vec_empty.clear()\n",
    "print(vec_empty)"
   ]
  },
  {
   "cell_type": "code",
   "execution_count": 14,
   "id": "d175276f-251f-49c6-9f88-00d47ed63c29",
   "metadata": {},
   "outputs": [
    {
     "data": {
      "text/plain": [
       "-110"
      ]
     },
     "execution_count": 14,
     "metadata": {},
     "output_type": "execute_result"
    }
   ],
   "source": [
    "sum(vec)"
   ]
  },
  {
   "cell_type": "code",
   "execution_count": 15,
   "id": "befac70a-2f6e-4242-b654-a348241eb402",
   "metadata": {},
   "outputs": [
    {
     "data": {
      "text/plain": [
       "-200"
      ]
     },
     "execution_count": 15,
     "metadata": {},
     "output_type": "execute_result"
    }
   ],
   "source": [
    "min(vec)"
   ]
  },
  {
   "cell_type": "code",
   "execution_count": 16,
   "id": "8b561414-415e-49ab-991a-9e8ad6925534",
   "metadata": {},
   "outputs": [
    {
     "data": {
      "text/plain": [
       "90"
      ]
     },
     "execution_count": 16,
     "metadata": {},
     "output_type": "execute_result"
    }
   ],
   "source": [
    "max(vec)"
   ]
  },
  {
   "cell_type": "code",
   "execution_count": 17,
   "id": "4cafe9b1-bf8a-485b-982b-1b9c1ce1d753",
   "metadata": {},
   "outputs": [
    {
     "name": "stdout",
     "output_type": "stream",
     "text": [
      "-1 -> 90 -> 7 -> -200 -> 3 -> 1 -> -10\n"
     ]
    }
   ],
   "source": [
    "vec.reverse()\n",
    "print(vec)"
   ]
  },
  {
   "cell_type": "code",
   "execution_count": 18,
   "id": "f2b7bfef-5b86-4eb2-b8c6-fc50c95f2141",
   "metadata": {},
   "outputs": [
    {
     "name": "stdout",
     "output_type": "stream",
     "text": [
      "-200 -> -10 -> -1 -> 1 -> 3 -> 7 -> 90\n"
     ]
    }
   ],
   "source": [
    "vec.sort()\n",
    "print(vec)"
   ]
  },
  {
   "cell_type": "code",
   "execution_count": 19,
   "id": "87b6ec7c-cba0-4d3a-9387-2dcf12eb4a89",
   "metadata": {},
   "outputs": [
    {
     "name": "stdout",
     "output_type": "stream",
     "text": [
      "1\n"
     ]
    }
   ],
   "source": [
    "print(vec.find(-10))"
   ]
  },
  {
   "cell_type": "code",
   "execution_count": 20,
   "id": "bc7354e6-a744-4f04-84d7-60993fb64850",
   "metadata": {},
   "outputs": [
    {
     "name": "stdout",
     "output_type": "stream",
     "text": [
      "-1\n"
     ]
    }
   ],
   "source": [
    "print(vec.find(-3))"
   ]
  },
  {
   "cell_type": "code",
   "execution_count": 21,
   "id": "df0d4380-3e14-4d53-856c-5d9131e1c51a",
   "metadata": {},
   "outputs": [
    {
     "data": {
      "text/plain": [
       "[-200, -10, -1, 1, 3, 7, 90]"
      ]
     },
     "execution_count": 21,
     "metadata": {},
     "output_type": "execute_result"
    }
   ],
   "source": [
    "list(vec)"
   ]
  },
  {
   "cell_type": "code",
   "execution_count": null,
   "id": "7d44abdb-9fca-40be-abf1-6856d989393e",
   "metadata": {},
   "outputs": [],
   "source": []
  }
 ],
 "metadata": {
  "kernelspec": {
   "display_name": "Python 3 (ipykernel)",
   "language": "python",
   "name": "python3"
  },
  "language_info": {
   "codemirror_mode": {
    "name": "ipython",
    "version": 3
   },
   "file_extension": ".py",
   "mimetype": "text/x-python",
   "name": "python",
   "nbconvert_exporter": "python",
   "pygments_lexer": "ipython3",
   "version": "3.8.12"
  }
 },
 "nbformat": 4,
 "nbformat_minor": 5
}
